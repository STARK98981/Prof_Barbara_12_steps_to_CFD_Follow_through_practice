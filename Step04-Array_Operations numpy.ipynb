{
 "cells": [
  {
   "cell_type": "code",
   "execution_count": 16,
   "metadata": {},
   "outputs": [],
   "source": [
    "import numpy "
   ]
  },
  {
   "cell_type": "code",
   "execution_count": 17,
   "metadata": {},
   "outputs": [
    {
     "name": "stdout",
     "output_type": "stream",
     "text": [
      "1\n",
      "1\n",
      "1\n",
      "1\n",
      "1\n"
     ]
    }
   ],
   "source": [
    "u = numpy.array([0,1,2,3,4,5])\n",
    "for i in range(1,len(u)):\n",
    "    print(u[i]-u[i-1])"
   ]
  },
  {
   "cell_type": "code",
   "execution_count": 18,
   "metadata": {},
   "outputs": [
    {
     "data": {
      "text/plain": [
       "array([1, 1, 1, 1, 1])"
      ]
     },
     "execution_count": 18,
     "metadata": {},
     "output_type": "execute_result"
    }
   ],
   "source": [
    "u[1:]-u[0:-1]"
   ]
  },
  {
   "cell_type": "code",
   "execution_count": 19,
   "metadata": {},
   "outputs": [],
   "source": [
    "\n",
    "nx = 81\n",
    "ny = 81\n",
    "nt = 100\n",
    "c = 1\n",
    "dx = 2 / (nx - 1)\n",
    "dy = 2 / (ny - 1)\n",
    "sigma = .2\n",
    "dt = sigma * dx\n",
    "\n",
    "x = numpy.linspace(0, 2, nx)\n",
    "y = numpy.linspace(0, 2, ny)\n",
    "\n",
    "u = numpy.ones((ny, nx)) ##create a 1xn vector of 1's\n",
    "un = numpy.ones((ny, nx)) \n",
    "\n",
    "###Assign initial conditions\n",
    "\n",
    "u[int(.5 / dy): int(1 / dy + 1), int(.5 / dx):int(1 / dx + 1)] = 2"
   ]
  },
  {
   "cell_type": "code",
   "execution_count": 20,
   "metadata": {},
   "outputs": [
    {
     "name": "stdout",
     "output_type": "stream",
     "text": [
      "2.2 s ± 8.91 ms per loop (mean ± std. dev. of 7 runs, 1 loop each)\n"
     ]
    }
   ],
   "source": [
    "%%timeit\n",
    "u = numpy.ones((ny, nx))\n",
    "u[int(.5 / dy): int(1 / dy + 1), int(.5 / dx):int(1 / dx + 1)] = 2\n",
    "\n",
    "for n in range(nt + 1): ##loop across number of time steps\n",
    "    un = u.copy()\n",
    "    row, col = u.shape\n",
    "    for j in range(1, row):\n",
    "        for i in range(1, col):\n",
    "            u[j, i] = (un[j, i] - (c * dt / dx * \n",
    "                                  (un[j, i] - un[j, i - 1])) - \n",
    "                                  (c * dt / dy * \n",
    "                                   (un[j, i] - un[j - 1, i])))\n",
    "            u[0, :] = 1\n",
    "            u[-1, :] = 1\n",
    "            u[:, 0] = 1\n",
    "            u[:, -1] = 1"
   ]
  },
  {
   "cell_type": "code",
   "execution_count": 21,
   "metadata": {},
   "outputs": [
    {
     "name": "stdout",
     "output_type": "stream",
     "text": [
      "3.32 ms ± 15.8 µs per loop (mean ± std. dev. of 7 runs, 100 loops each)\n"
     ]
    }
   ],
   "source": [
    "%%timeit\n",
    "u = numpy.ones((ny, nx))\n",
    "u[int(.5 / dy): int(1 / dy + 1), int(.5 / dx):int(1 / dx + 1)] = 2\n",
    "\n",
    "for n in range(nt + 1): ##loop across number of time steps\n",
    "    un = u.copy()\n",
    "    u[1:, 1:] = (un[1:, 1:] - (c * dt / dx * (un[1:, 1:] - un[1:, 0:-1])) -\n",
    "                              (c * dt / dy * (un[1:, 1:] - un[0:-1, 1:])))\n",
    "    u[0, :] = 1\n",
    "    u[-1, :] = 1\n",
    "    u[:, 0] = 1\n",
    "    u[:, -1] = 1"
   ]
  },
  {
   "cell_type": "code",
   "execution_count": null,
   "metadata": {},
   "outputs": [],
   "source": []
  }
 ],
 "metadata": {
  "kernelspec": {
   "display_name": ".venv",
   "language": "python",
   "name": "python3"
  },
  "language_info": {
   "codemirror_mode": {
    "name": "ipython",
    "version": 3
   },
   "file_extension": ".py",
   "mimetype": "text/x-python",
   "name": "python",
   "nbconvert_exporter": "python",
   "pygments_lexer": "ipython3",
   "version": "3.9.13"
  }
 },
 "nbformat": 4,
 "nbformat_minor": 2
}
